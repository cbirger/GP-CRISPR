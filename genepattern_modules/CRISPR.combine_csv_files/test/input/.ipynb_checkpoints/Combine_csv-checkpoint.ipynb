{
 "metadata": {
  "name": "",
  "signature": "sha256:5f0888de8ea2dc2ab163a9c9ad61808ce0050db440ee604a1a577bd909b52e3c"
 },
 "nbformat": 3,
 "nbformat_minor": 0,
 "worksheets": []
}